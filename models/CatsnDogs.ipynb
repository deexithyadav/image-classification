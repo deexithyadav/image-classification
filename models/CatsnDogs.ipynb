{
 "cells": [
  {
   "cell_type": "code",
   "execution_count": 263,
   "metadata": {},
   "outputs": [],
   "source": [
    "\"\"\"\n",
    "@author: SINDHU\n",
    "\"\"\"\n",
    "\n",
    "# Convolutional Neural Network\n",
    "\n",
    "# Part 1 - Building the CNN\n",
    "\n",
    "# Importing the Keras libraries and packages\n",
    "from keras.models import Sequential\n",
    "from keras.layers import Conv2D\n",
    "from keras.layers import MaxPooling2D\n",
    "from keras.layers import Flatten\n",
    "from keras.layers import Dense"
   ]
  },
  {
   "cell_type": "code",
   "execution_count": 264,
   "metadata": {},
   "outputs": [],
   "source": [
    "# Initialising the CNN\n",
    "classifier = Sequential()\n",
    "\n",
    "# Step 1 - Convolution\n",
    "classifier.add(Conv2D(32, (3, 3), input_shape = (128, 128, 3), activation = 'relu'))\n"
   ]
  },
  {
   "cell_type": "code",
   "execution_count": 265,
   "metadata": {},
   "outputs": [],
   "source": [
    "# Step 2 - Pooling\n",
    "classifier.add(MaxPooling2D(pool_size = (2, 2)))\n",
    "\n",
    "# Adding a second convolutional layer\n",
    "classifier.add(Conv2D(32, (3, 3), activation = 'relu'))\n",
    "classifier.add(MaxPooling2D(pool_size = (2, 2)))\n",
    "classifier.add(Conv2D(32, (3, 3), activation = 'relu'))\n",
    "classifier.add(MaxPooling2D(pool_size = (2, 2)))\n"
   ]
  },
  {
   "cell_type": "code",
   "execution_count": 266,
   "metadata": {},
   "outputs": [],
   "source": [
    "# Step 3 - Flattening\n",
    "classifier.add(Flatten())\n",
    "\n",
    "# Step 4 - Full connection\n",
    "classifier.add(Dense(units = 128, activation = 'relu'))\n",
    "\n",
    "classifier.add(Dense(units = 2, activation = 'softmax'))\n"
   ]
  },
  {
   "cell_type": "code",
   "execution_count": 267,
   "metadata": {},
   "outputs": [],
   "source": [
    "# Compiling the CNN\n",
    "classifier.compile(optimizer = 'adam', loss = 'categorical_crossentropy', metrics = ['accuracy'])\n",
    "\n"
   ]
  },
  {
   "cell_type": "code",
   "execution_count": 268,
   "metadata": {},
   "outputs": [
    {
     "name": "stdout",
     "output_type": "stream",
     "text": [
      "Found 8000 images belonging to 2 classes.\n"
     ]
    }
   ],
   "source": [
    "# Part 2 - Fitting the CNN to the images\n",
    "\n",
    "from keras.preprocessing.image import ImageDataGenerator\n",
    "#preprocessing the training set\n",
    "train_datagen = ImageDataGenerator(rescale = 1./255,\n",
    "                                   shear_range = 0.2,\n",
    "                                   zoom_range = 0.2,\n",
    "                                   horizontal_flip = True)\n",
    "\n",
    "training_set = train_datagen.flow_from_directory('dataset/training_set',\n",
    "                                                 target_size = (128, 128),\n",
    "                                                 batch_size = 32,\n",
    "                                                 class_mode = 'categorical')\n"
   ]
  },
  {
   "cell_type": "code",
   "execution_count": 269,
   "metadata": {},
   "outputs": [
    {
     "data": {
      "text/plain": [
       "keras_preprocessing.image.directory_iterator.DirectoryIterator"
      ]
     },
     "execution_count": 269,
     "metadata": {},
     "output_type": "execute_result"
    }
   ],
   "source": [
    "type(training_set)"
   ]
  },
  {
   "cell_type": "code",
   "execution_count": 270,
   "metadata": {},
   "outputs": [
    {
     "name": "stdout",
     "output_type": "stream",
     "text": [
      "Found 2000 images belonging to 2 classes.\n"
     ]
    }
   ],
   "source": [
    "# Preprocessing the Test set\n",
    "test_datagen = ImageDataGenerator(rescale = 1./255)\n",
    "test_set = test_datagen.flow_from_directory('dataset/test_set',\n",
    "                                            target_size = (128, 128),\n",
    "                                            batch_size = 32,\n",
    "                                            class_mode = 'categorical')\n"
   ]
  },
  {
   "cell_type": "code",
   "execution_count": 272,
   "metadata": {},
   "outputs": [
    {
     "name": "stdout",
     "output_type": "stream",
     "text": [
      "Epoch 1/25\n",
      "250/250 [==============================] - 103s 412ms/step - loss: 0.6821 - accuracy: 0.5599 - val_loss: 0.6526 - val_accuracy: 0.6155\n",
      "Epoch 2/25\n",
      "250/250 [==============================] - 112s 446ms/step - loss: 0.6244 - accuracy: 0.6485 - val_loss: 0.5714 - val_accuracy: 0.7070\n",
      "Epoch 3/25\n",
      "250/250 [==============================] - 107s 429ms/step - loss: 0.5692 - accuracy: 0.7053 - val_loss: 0.5238 - val_accuracy: 0.7445\n",
      "Epoch 4/25\n",
      "250/250 [==============================] - 110s 438ms/step - loss: 0.5212 - accuracy: 0.7404 - val_loss: 0.5003 - val_accuracy: 0.7670\n",
      "Epoch 5/25\n",
      "250/250 [==============================] - 106s 423ms/step - loss: 0.4939 - accuracy: 0.7636 - val_loss: 0.5216 - val_accuracy: 0.7375\n",
      "Epoch 6/25\n",
      "250/250 [==============================] - 105s 420ms/step - loss: 0.4695 - accuracy: 0.7754 - val_loss: 0.4693 - val_accuracy: 0.7855\n",
      "Epoch 7/25\n",
      "250/250 [==============================] - 104s 415ms/step - loss: 0.4405 - accuracy: 0.7918 - val_loss: 0.4653 - val_accuracy: 0.7955\n",
      "Epoch 8/25\n",
      "250/250 [==============================] - 105s 422ms/step - loss: 0.4218 - accuracy: 0.8030 - val_loss: 0.4429 - val_accuracy: 0.8045\n",
      "Epoch 9/25\n",
      "250/250 [==============================] - 108s 431ms/step - loss: 0.4071 - accuracy: 0.8127 - val_loss: 0.4637 - val_accuracy: 0.7870\n",
      "Epoch 10/25\n",
      "250/250 [==============================] - 103s 413ms/step - loss: 0.4014 - accuracy: 0.8180 - val_loss: 0.4120 - val_accuracy: 0.8215\n",
      "Epoch 11/25\n",
      "250/250 [==============================] - 102s 408ms/step - loss: 0.3687 - accuracy: 0.8295 - val_loss: 0.4455 - val_accuracy: 0.7965\n",
      "Epoch 12/25\n",
      "250/250 [==============================] - 102s 408ms/step - loss: 0.3586 - accuracy: 0.8374 - val_loss: 0.4318 - val_accuracy: 0.8140\n",
      "Epoch 13/25\n",
      "250/250 [==============================] - 102s 410ms/step - loss: 0.3509 - accuracy: 0.8439 - val_loss: 0.4671 - val_accuracy: 0.7930\n",
      "Epoch 14/25\n",
      "250/250 [==============================] - 102s 409ms/step - loss: 0.3306 - accuracy: 0.8526 - val_loss: 0.4069 - val_accuracy: 0.8325\n",
      "Epoch 15/25\n",
      "250/250 [==============================] - 102s 406ms/step - loss: 0.3231 - accuracy: 0.8556 - val_loss: 0.4160 - val_accuracy: 0.8185\n",
      "Epoch 16/25\n",
      "250/250 [==============================] - 101s 406ms/step - loss: 0.3001 - accuracy: 0.8662 - val_loss: 0.4635 - val_accuracy: 0.8155\n",
      "Epoch 17/25\n",
      "250/250 [==============================] - 102s 408ms/step - loss: 0.2999 - accuracy: 0.8692 - val_loss: 0.4673 - val_accuracy: 0.8195\n",
      "Epoch 18/25\n",
      "250/250 [==============================] - 102s 406ms/step - loss: 0.2762 - accuracy: 0.8813 - val_loss: 0.4535 - val_accuracy: 0.8215\n",
      "Epoch 19/25\n",
      "250/250 [==============================] - 103s 414ms/step - loss: 0.2792 - accuracy: 0.8816 - val_loss: 0.4371 - val_accuracy: 0.8300\n",
      "Epoch 20/25\n",
      "250/250 [==============================] - 103s 412ms/step - loss: 0.2624 - accuracy: 0.8915 - val_loss: 0.4320 - val_accuracy: 0.8255\n",
      "Epoch 21/25\n",
      "250/250 [==============================] - 105s 420ms/step - loss: 0.2401 - accuracy: 0.9005 - val_loss: 0.4449 - val_accuracy: 0.8410\n",
      "Epoch 22/25\n",
      "250/250 [==============================] - 103s 413ms/step - loss: 0.2347 - accuracy: 0.9047 - val_loss: 0.4606 - val_accuracy: 0.8280\n",
      "Epoch 23/25\n",
      "250/250 [==============================] - 102s 408ms/step - loss: 0.2143 - accuracy: 0.9131 - val_loss: 0.4810 - val_accuracy: 0.8255\n",
      "Epoch 24/25\n",
      "250/250 [==============================] - 102s 409ms/step - loss: 0.2059 - accuracy: 0.9147 - val_loss: 0.4815 - val_accuracy: 0.8275\n",
      "Epoch 25/25\n",
      "250/250 [==============================] - 104s 415ms/step - loss: 0.2046 - accuracy: 0.9165 - val_loss: 0.4935 - val_accuracy: 0.8250\n"
     ]
    },
    {
     "data": {
      "text/plain": [
       "<tensorflow.python.keras.callbacks.History at 0x1f54a00ec48>"
      ]
     },
     "execution_count": 272,
     "metadata": {},
     "output_type": "execute_result"
    }
   ],
   "source": [
    "# Training the CNN on the Training set and evaluating it on the Test set\n",
    "classifier.fit(training_set,\n",
    "                         steps_per_epoch = None,\n",
    "                         epochs = 25,\n",
    "                         validation_data = test_set,\n",
    "                         validation_steps = None)"
   ]
  },
  {
   "cell_type": "code",
   "execution_count": 255,
   "metadata": {},
   "outputs": [
    {
     "name": "stdout",
     "output_type": "stream",
     "text": [
      "Saved model to disk\n"
     ]
    }
   ],
   "source": [
    "from keras.models import model_from_json \n",
    "# serialize model to JSON\n",
    "model_json = classifier.to_json()\n",
    "with open(\"model81.json\", \"w\") as json_file:\n",
    "    json_file.write(model_json)\n",
    "# serialize weights to HDF5\n",
    "classifier.save_weights(\"model81.h5\")\n",
    "print(\"Saved model to disk\")\n",
    " "
   ]
  },
  {
   "cell_type": "code",
   "execution_count": 274,
   "metadata": {},
   "outputs": [
    {
     "name": "stdout",
     "output_type": "stream",
     "text": [
      "(128, 128, 3)\n",
      "[[0.5265994 0.4734006]]\n",
      "cat\n"
     ]
    }
   ],
   "source": [
    "#making a single prediction\n",
    "import numpy as np\n",
    "from keras.preprocessing import image\n",
    "test_image = image.load_img('dataset/single_prediction/download.jpg', target_size = (128, 128))\n",
    "test_image = image.img_to_array(test_image)# M\n",
    "print(test_image.shape)\n",
    "test_image = np.expand_dims(test_image, axis = 0)\n",
    "\n",
    "result = classifier.predict((test_image/255))\n",
    "training_set.class_indices\n",
    "print(result)\n",
    "if result[0][0] > 0.5:\n",
    "    prediction = 'dog'\n",
    "else:\n",
    "    prediction = 'cat'\n",
    "print(prediction)"
   ]
  },
  {
   "cell_type": "code",
   "execution_count": 183,
   "metadata": {},
   "outputs": [
    {
     "data": {
      "text/plain": [
       "{'cats': 0, 'dogs': 1}"
      ]
     },
     "execution_count": 183,
     "metadata": {},
     "output_type": "execute_result"
    }
   ],
   "source": [
    "training_set.class_indices"
   ]
  },
  {
   "cell_type": "code",
   "execution_count": 13,
   "metadata": {},
   "outputs": [
    {
     "name": "stdout",
     "output_type": "stream",
     "text": [
      "Loaded model from disk\n"
     ]
    }
   ],
   "source": [
    "from keras.models import model_from_json \n",
    "# load json and create model\n",
    "json_file = open('model81.json', 'r')\n",
    "loaded_model_json = json_file.read()\n",
    "json_file.close()\n",
    "loaded_model = model_from_json(loaded_model_json)\n",
    "# load weights into new model\n",
    "loaded_model.load_weights(\"model81.h5\")\n",
    "print(\"Loaded model from disk\")\n"
   ]
  },
  {
   "cell_type": "code",
   "execution_count": 15,
   "metadata": {},
   "outputs": [
    {
     "name": "stdout",
     "output_type": "stream",
     "text": [
      "<class 'numpy.ndarray'>\n",
      "(225, 377, 3)\n",
      "<class 'PIL.Image.Image'>\n",
      "RGB\n",
      "(377, 225)\n",
      "RGB\n",
      "(64, 64)\n",
      "(64, 64, 3)\n",
      "[[0.8331317  0.16686833]]\n"
     ]
    },
    {
     "data": {
      "image/png": "[encoded data removed]",
      "text/plain": [
       "<Figure size 432x288 with 1 Axes>"
      ]
     },
     "metadata": {
      "needs_background": "light"
     },
     "output_type": "display_data"
    }
   ],
   "source": [
    "import matplotlib.pyplot as plt\n",
    "import urllib.request\n",
    "from PIL import Image\n",
    "from numpy import asarray\n",
    "# load the image\n",
    "url='https://th.bing.com/th/id/OIP.AHmAGY1B6WtsjNJohvBVuQHaEK?w=302&h=180&c=7&o=5&dpr=1.25&pid=1.7'\n",
    "image = Image.open(urllib.request.urlopen(url))\n",
    "# convert image to numpy array\n",
    "data = asarray(image)\n",
    "print(type(data))\n",
    "# summarize shape\n",
    "print(data.shape)\n",
    "\n",
    "# create Pillow image\n",
    "image2 = Image.fromarray(data)\n",
    "print(type(image2))\n",
    "\n",
    "# summarize image details\n",
    "print(image2.mode)\n",
    "print(image2.size)\n",
    "plt.imshow(image2)\n",
    "image2=image.resize((64, 64))\n",
    "print(image2.mode)\n",
    "print(image2.size)\n",
    "print(asarray(image2).shape)\n",
    "plt.imshow(image2)\n",
    "print(loaded_model.predict((asarray(image2)/255).reshape(1,64,64,3)))"
   ]
  },
  {
   "cell_type": "code",
   "execution_count": 233,
   "metadata": {},
   "outputs": [
    {
     "data": {
      "text/plain": [
       "['cats', 'dogs']"
      ]
     },
     "execution_count": 233,
     "metadata": {},
     "output_type": "execute_result"
    }
   ],
   "source": [
    "class_labels"
   ]
  },
  {
   "cell_type": "code",
   "execution_count": null,
   "metadata": {},
   "outputs": [],
   "source": []
  }
 ],
 "metadata": {
  "kernelspec": {
   "display_name": "Python 3",
   "language": "python",
   "name": "python3"
  },
  "language_info": {
   "codemirror_mode": {
    "name": "ipython",
    "version": 3
   },
   "file_extension": ".py",
   "mimetype": "text/x-python",
   "name": "python",
   "nbconvert_exporter": "python",
   "pygments_lexer": "ipython3",
   "version": "3.7.4"
  }
 },
 "nbformat": 4,
 "nbformat_minor": 2
}
